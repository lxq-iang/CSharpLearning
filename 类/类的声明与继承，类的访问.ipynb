{
 "cells": [
  {
   "cell_type": "markdown",
   "metadata": {},
   "source": [
    "### 一. 类的声明与访问级别"
   ]
  },
  {
   "cell_type": "markdown",
   "metadata": {},
   "source": [
    "#### 类的声明\n",
    "- 声明位置\n",
    "    - 名称空间内\n",
    "    - 全局名称空间\n",
    "    - 当成成员类声明（在类的内部声明）"
   ]
  },
  {
   "cell_type": "markdown",
   "metadata": {},
   "source": [
    "#### 类的访问控制"
   ]
  },
  {
   "cell_type": "markdown",
   "metadata": {},
   "source": [
    "- public:公开，同一命名空间，同一程序集，不同程序集之间可访问\n",
    "- internal:在同一命名空间，同一程序集可以访问"
   ]
  },
  {
   "cell_type": "markdown",
   "metadata": {},
   "source": [
    "### 二. 类的继承\n",
    "- 基类-派生类\n",
    "- 父类-子类\n",
    "- 所有类的都是从Object类派生出来的"
   ]
  },
  {
   "cell_type": "code",
   "execution_count": 1,
   "metadata": {
    "dotnet_interactive": {
     "language": "csharp"
    },
    "vscode": {
     "languageId": "dotnet-interactive.csharp"
    }
   },
   "outputs": [],
   "source": [
    "class Vehicle\n",
    "{\n",
    "\n",
    "}\n",
    "class Car:Vehicle\n",
    "{\n",
    "\n",
    "}"
   ]
  },
  {
   "cell_type": "code",
   "execution_count": 2,
   "metadata": {
    "dotnet_interactive": {
     "language": "csharp"
    },
    "vscode": {
     "languageId": "dotnet-interactive.csharp"
    }
   },
   "outputs": [
    {
     "data": {
      "text/plain": [
       "Submission#2+Car"
      ]
     },
     "metadata": {},
     "output_type": "display_data"
    },
    {
     "data": {
      "text/plain": [
       "Submission#2+Vehicle"
      ]
     },
     "metadata": {},
     "output_type": "display_data"
    },
    {
     "data": {
      "text/plain": [
       "System.Object"
      ]
     },
     "metadata": {},
     "output_type": "display_data"
    }
   ],
   "source": [
    "Type t = typeof(Car);\n",
    "Type tb = t.BaseType;\n",
    "Type tTop = tb.BaseType;\n",
    "t.FullName.Display();\n",
    "tb.FullName.Display();\n",
    "tTop.FullName.Display();"
   ]
  },
  {
   "cell_type": "markdown",
   "metadata": {},
   "source": [
    "**一个子类的实例也是一个父类的实例**"
   ]
  },
  {
   "cell_type": "code",
   "execution_count": 3,
   "metadata": {
    "dotnet_interactive": {
     "language": "csharp"
    },
    "vscode": {
     "languageId": "dotnet-interactive.csharp"
    }
   },
   "outputs": [
    {
     "data": {
      "text/html": [
       "<div class=\"dni-plaintext\">True</div>"
      ]
     },
     "metadata": {},
     "output_type": "display_data"
    }
   ],
   "source": [
    "Car car = new Car();\n",
    "(car is Vehicle).Display();"
   ]
  },
  {
   "cell_type": "code",
   "execution_count": 5,
   "metadata": {
    "dotnet_interactive": {
     "language": "csharp"
    },
    "vscode": {
     "languageId": "dotnet-interactive.csharp"
    }
   },
   "outputs": [
    {
     "data": {
      "text/html": [
       "<div class=\"dni-plaintext\">False</div>"
      ]
     },
     "metadata": {},
     "output_type": "display_data"
    }
   ],
   "source": [
    "Vehicle vehicle = new Vehicle();\n",
    "(vehicle is Car).Display();"
   ]
  },
  {
   "cell_type": "markdown",
   "metadata": {},
   "source": [
    "**父类类型的变量可以引用子类类型的实例**"
   ]
  },
  {
   "cell_type": "code",
   "execution_count": 6,
   "metadata": {
    "dotnet_interactive": {
     "language": "csharp"
    },
    "vscode": {
     "languageId": "dotnet-interactive.csharp"
    }
   },
   "outputs": [],
   "source": [
    "Vehicle vehicle = new Car(); //父类类型的变量引用子类类型的实例\n",
    "Object o1 = new Vehicle();\n",
    "Object o2 = new Car();"
   ]
  },
  {
   "cell_type": "markdown",
   "metadata": {},
   "source": [
    ">- **被sealed关键字修饰的类不能被继承**\n",
    ">- **C#中一个子类最多只能有一个基类**\n",
    ">- **子类的访问级别不能超过父类**"
   ]
  },
  {
   "cell_type": "markdown",
   "metadata": {},
   "source": [
    "### 三. 类成员"
   ]
  },
  {
   "cell_type": "markdown",
   "metadata": {},
   "source": [
    "> 继承的本质：<font color=\"Green\">派生类在完整接收基类成员后对基类进行的横向或纵向的扩展</font> —— 当继承发生时，子类拥有父类的所有成员，子类的成员一定比父类的多，子类只能增加不能削减，一个类被继承时在继承链中会一直存在下去"
   ]
  },
  {
   "cell_type": "markdown",
   "metadata": {},
   "source": [
    "- 横向扩展：类成员的增加\n",
    "- 纵向扩展：类成员版本的变更"
   ]
  },
  {
   "cell_type": "code",
   "execution_count": 9,
   "metadata": {
    "dotnet_interactive": {
     "language": "csharp"
    },
    "vscode": {
     "languageId": "dotnet-interactive.csharp"
    }
   },
   "outputs": [
    {
     "data": {
      "text/plain": [
       "Car Owner"
      ]
     },
     "metadata": {},
     "output_type": "display_data"
    },
    {
     "data": {
      "text/plain": [
       "Car Owner"
      ]
     },
     "metadata": {},
     "output_type": "display_data"
    },
    {
     "data": {
      "text/plain": [
       "Car Owner"
      ]
     },
     "metadata": {},
     "output_type": "display_data"
    }
   ],
   "source": [
    "class Vehicle\n",
    "{\n",
    "    public string Owner{get;set;}\n",
    "\n",
    "    public Vehicle()\n",
    "    {\n",
    "        Owner = \"N/A\";\n",
    "    }\n",
    "}\n",
    "class Car:Vehicle\n",
    "{\n",
    "    public Car()\n",
    "    {\n",
    "        Owner = \"Car Owner\";\n",
    "    }\n",
    "\n",
    "    public void ShowOwner()\n",
    "    {\n",
    "        Owner.Display(); //Car Owner\n",
    "        base.Owner.Display(); //N/A\n",
    "    }\n",
    "}\n",
    "class RaceCar:Car\n",
    "{\n",
    "\n",
    "}\n",
    "\n",
    "RaceCar raceCar = new RaceCar();\n",
    "\n",
    "raceCar.Owner.Display(); //创建实例时从基类开始执行，一级一级往下构建\n",
    "\n",
    "Car car = new Car();\n",
    "car.ShowOwner();"
   ]
  },
  {
   "cell_type": "markdown",
   "metadata": {},
   "source": [
    "**<font color=\"red\">父类的实例构造器无法被子类继承</font>**"
   ]
  },
  {
   "cell_type": "code",
   "execution_count": 11,
   "metadata": {
    "dotnet_interactive": {
     "language": "csharp"
    },
    "vscode": {
     "languageId": "dotnet-interactive.csharp"
    }
   },
   "outputs": [
    {
     "data": {
      "text/plain": [
       "lxq"
      ]
     },
     "metadata": {},
     "output_type": "display_data"
    }
   ],
   "source": [
    "class Vehicle\n",
    "{\n",
    "    public string Owner{get;set;}\n",
    "\n",
    "    public Vehicle(string owner)\n",
    "    {\n",
    "        Owner = owner;\n",
    "    }\n",
    "}\n",
    "class Car:Vehicle\n",
    "{\n",
    "    public Car(string owner):base(owner) //base相当于把当前构造函数的owner值传给父类, 父类的实例构造器无法被子类继承\n",
    "    {\n",
    "    }\n",
    "\n",
    "    public void ShowOwner()\n",
    "    {\n",
    "        Owner.Display(); //Car Owner\n",
    "        base.Owner.Display(); //N/A\n",
    "    }\n",
    "}\n",
    "\n",
    "Car car = new Car(\"lxq\");\n",
    "car.Owner.Display();"
   ]
  },
  {
   "cell_type": "markdown",
   "metadata": {},
   "source": [
    "**类成员的访问级别时以类的访问级别为上限的**  \n",
    "- private关键字会把类成员的访问级别限制在类内，类成员访问级别默认为private"
   ]
  },
  {
   "cell_type": "code",
   "execution_count": null,
   "metadata": {
    "dotnet_interactive": {
     "language": "csharp"
    },
    "vscode": {
     "languageId": "dotnet-interactive.csharp"
    }
   },
   "outputs": [],
   "source": []
  }
 ],
 "metadata": {
  "kernelspec": {
   "display_name": ".NET (C#)",
   "language": "C#",
   "name": ".net-csharp"
  },
  "language_info": {
   "file_extension": ".cs",
   "mimetype": "text/x-csharp",
   "name": "C#",
   "pygments_lexer": "csharp",
   "version": "9.0"
  },
  "orig_nbformat": 4
 },
 "nbformat": 4,
 "nbformat_minor": 2
}
