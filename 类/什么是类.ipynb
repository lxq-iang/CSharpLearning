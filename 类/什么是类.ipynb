{
 "cells": [
  {
   "cell_type": "markdown",
   "metadata": {},
   "source": [
    "**类是一种数据结构，它可以包含数据成员（常量和字段）、函数成员（方法、属性、事件、索引器、运算符、实例构造函数、静态构造函数和析构函数）以及嵌套类型。类类型支持继承，继承是一种机制，它使派生类可以对基类进行扩展和专用化。**"
   ]
  },
  {
   "cell_type": "code",
   "execution_count": null,
   "metadata": {
    "dotnet_interactive": {
     "language": "csharp"
    },
    "polyglot_notebook": {
     "kernelName": "csharp"
    },
    "vscode": {
     "languageId": "polyglot-notebook"
    }
   },
   "outputs": [],
   "source": [
    "class Student\n",
    "{\n",
    "    public int ID {get;set;}\n",
    "    public string Name {get;set;}\n",
    "\n",
    "    public void Report()\n",
    "    {\n",
    "        $\"I'm #{ID} student, my name is {Name}.\".Display();\n",
    "    }\n",
    "}\n",
    "\n",
    "Student stu = new Student();//调用默认构造器，若有自定义构造器就不能使用默认构造器了\n",
    "stu.ID = 1001;\n",
    "stu.Name = \"lxq\";\n",
    "stu.Report();"
   ]
  },
  {
   "cell_type": "code",
   "execution_count": null,
   "metadata": {
    "dotnet_interactive": {
     "language": "csharp"
    },
    "vscode": {
     "languageId": "polyglot-notebook"
    }
   },
   "outputs": [],
   "source": [
    "class Student\n",
    "{\n",
    "    public int ID {get;set;}\n",
    "    public string Name {get;set;}\n",
    "\n",
    "    public Student(int id, string name)\n",
    "    {\n",
    "        ID=id;\n",
    "        Name=name;\n",
    "    }\n",
    "    public void Report()\n",
    "    {\n",
    "        $\"I'm #{ID} student, my name is {Name}.\".Display();\n",
    "    }\n",
    "}\n",
    "\n",
    "Student stu = new Student(1001,\"lxq\");//若有自定义构造器就不能使用默认构造器了\n",
    "\n",
    "stu.Report();"
   ]
  },
  {
   "cell_type": "markdown",
   "metadata": {},
   "source": [
    "#### 实例析构器\n",
    "- 当程序占用系统底层资源时，需要手动释放"
   ]
  },
  {
   "cell_type": "code",
   "execution_count": 5,
   "metadata": {
    "dotnet_interactive": {
     "language": "csharp"
    },
    "vscode": {
     "languageId": "polyglot-notebook"
    }
   },
   "outputs": [],
   "source": [
    "class Student\n",
    "{\n",
    "    public int ID {get;set;}\n",
    "    public string Name {get;set;}\n",
    "\n",
    "    public Student(int id, string name)\n",
    "    {\n",
    "        ID=id;\n",
    "        Name=name;\n",
    "    }\n",
    "    public void Report()\n",
    "    {\n",
    "        $\"I'm #{ID} student, my name is {Name}.\".Display();\n",
    "    }\n",
    "    //析构器\n",
    "    ~Student()\n",
    "    {\n",
    "        \"Bye bye! Release the system resource ...\".Display();\n",
    "    }\n",
    "}"
   ]
  },
  {
   "cell_type": "code",
   "execution_count": 6,
   "metadata": {
    "dotnet_interactive": {
     "language": "csharp"
    },
    "vscode": {
     "languageId": "polyglot-notebook"
    }
   },
   "outputs": [],
   "source": [
    "Student stu1 = new Student(1001,\"lxq\");\n",
    "\n",
    "stu1.Report();"
   ]
  },
  {
   "cell_type": "code",
   "execution_count": 9,
   "metadata": {
    "dotnet_interactive": {
     "language": "csharp"
    },
    "vscode": {
     "languageId": "polyglot-notebook"
    }
   },
   "outputs": [],
   "source": [
    "Type t = typeof(Student);\n",
    "object o = Activator.CreateInstance(t,1001,\"lxq\");\n",
    "\n",
    "(o is Student).Display();\n",
    "o.GetType().Display();\n",
    "\n",
    "Student stu = o as Student;\n",
    "stu.ID.Display();\n",
    "stu.Name.Display();"
   ]
  },
  {
   "cell_type": "markdown",
   "metadata": {},
   "source": [
    "#### 静态成员"
   ]
  },
  {
   "cell_type": "code",
   "execution_count": 11,
   "metadata": {
    "dotnet_interactive": {
     "language": "csharp"
    },
    "vscode": {
     "languageId": "polyglot-notebook"
    }
   },
   "outputs": [],
   "source": [
    "class Student\n",
    "{\n",
    "    //静态成员\n",
    "    public static int Amount{get;set;}\n",
    "\n",
    "    //静态构造器，只能初始化静态成员\n",
    "    static Student()\n",
    "    {\n",
    "        Amount = 100;\n",
    "    }\n",
    "\n",
    "    public int ID {get;set;}\n",
    "    public string Name {get;set;}\n",
    "\n",
    "    public Student(int id, string name)\n",
    "    {\n",
    "        ID=id;\n",
    "        Name=name;\n",
    "        Amount++;\n",
    "    }\n",
    "    public void Report()\n",
    "    {\n",
    "        $\"I'm #{ID} student, my name is {Name}.\".Display();\n",
    "    }\n",
    "\n",
    "}\n",
    "\n",
    "Student.Amount.Display();\n",
    "Student stu1 = new Student(1001,\"lxq\");\n",
    "Student stu2 = new Student(1002,\"ltf\");\n",
    "\n",
    "Student.Amount.Display();\n",
    "\n"
   ]
  },
  {
   "cell_type": "code",
   "execution_count": null,
   "metadata": {
    "dotnet_interactive": {
     "language": "csharp"
    },
    "vscode": {
     "languageId": "polyglot-notebook"
    }
   },
   "outputs": [],
   "source": []
  }
 ],
 "metadata": {
  "kernelspec": {
   "display_name": ".NET (C#)",
   "language": "C#",
   "name": ".net-csharp"
  },
  "language_info": {
   "name": "csharp"
  },
  "polyglot_notebook": {
   "kernelInfo": {
    "defaultKernelName": "csharp",
    "items": [
     {
      "aliases": [],
      "name": "csharp"
     }
    ]
   }
  }
 },
 "nbformat": 4,
 "nbformat_minor": 2
}
