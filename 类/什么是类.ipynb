{
 "cells": [
  {
   "cell_type": "markdown",
   "metadata": {},
   "source": [
    "**类是一种数据结构，它可以包含数据成员（常量和字段）、函数成员（方法、属性、事件、索引器、运算符、实例构造函数、静态构造函数和析构函数）以及嵌套类型。类类型支持继承，继承是一种机制，它使派生类可以对基类进行扩展和专用化。**"
   ]
  },
  {
   "cell_type": "code",
   "execution_count": 2,
   "metadata": {
    "dotnet_interactive": {
     "language": "csharp"
    },
    "polyglot_notebook": {
     "kernelName": "csharp"
    },
    "vscode": {
     "languageId": "polyglot-notebook"
    }
   },
   "outputs": [
    {
     "data": {
      "text/plain": [
       "I'm #1001 student, my name is lxq."
      ]
     },
     "metadata": {},
     "output_type": "display_data"
    }
   ],
   "source": [
    "class Student\n",
    "{\n",
    "    public int ID {get;set;}\n",
    "    public string Name {get;set;}\n",
    "\n",
    "    public void Report()\n",
    "    {\n",
    "        $\"I'm #{ID} student, my name is {Name}.\".Display();\n",
    "    }\n",
    "}\n",
    "\n",
    "Student stu = new Student();//调用默认构造器，若有自定义构造器就不能使用默认构造器了\n",
    "stu.ID = 1001;\n",
    "stu.Name = \"lxq\";\n",
    "stu.Report();"
   ]
  },
  {
   "cell_type": "code",
   "execution_count": 3,
   "metadata": {
    "vscode": {
     "languageId": "polyglot-notebook"
    }
   },
   "outputs": [
    {
     "data": {
      "text/plain": [
       "I'm #1001 student, my name is lxq."
      ]
     },
     "metadata": {},
     "output_type": "display_data"
    }
   ],
   "source": [
    "class Student\n",
    "{\n",
    "    public int ID {get;set;}\n",
    "    public string Name {get;set;}\n",
    "\n",
    "    public Student(int id, string name)\n",
    "    {\n",
    "        ID=id;\n",
    "        Name=name;\n",
    "    }\n",
    "    public void Report()\n",
    "    {\n",
    "        $\"I'm #{ID} student, my name is {Name}.\".Display();\n",
    "    }\n",
    "}\n",
    "\n",
    "Student stu = new Student(1001,\"lxq\");//若有自定义构造器就不能使用默认构造器了\n",
    "\n",
    "stu.Report();"
   ]
  },
  {
   "cell_type": "code",
   "execution_count": null,
   "metadata": {
    "vscode": {
     "languageId": "polyglot-notebook"
    }
   },
   "outputs": [],
   "source": []
  }
 ],
 "metadata": {
  "kernelspec": {
   "display_name": ".NET (C#)",
   "language": "C#",
   "name": ".net-csharp"
  },
  "language_info": {
   "name": "csharp"
  },
  "polyglot_notebook": {
   "kernelInfo": {
    "defaultKernelName": "csharp",
    "items": [
     {
      "aliases": [],
      "name": "csharp"
     }
    ]
   }
  }
 },
 "nbformat": 4,
 "nbformat_minor": 2
}
