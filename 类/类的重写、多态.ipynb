{
 "cells": [
  {
   "cell_type": "markdown",
   "metadata": {},
   "source": [
    "### 重写"
   ]
  },
  {
   "cell_type": "markdown",
   "metadata": {},
   "source": [
    "- 重写与隐藏发生的条件：函数成员，可见，签名一致"
   ]
  },
  {
   "cell_type": "code",
   "execution_count": 14,
   "metadata": {
    "dotnet_interactive": {
     "language": "csharp"
    },
    "vscode": {
     "languageId": "dotnet-interactive.csharp"
    }
   },
   "outputs": [
    {
     "data": {
      "text/plain": [
       "Car is running"
      ]
     },
     "metadata": {},
     "output_type": "display_data"
    },
    {
     "data": {
      "text/html": [
       "<div class=\"dni-plaintext\">50</div>"
      ]
     },
     "metadata": {},
     "output_type": "display_data"
    },
    {
     "data": {
      "text/plain": [
       "I'm running"
      ]
     },
     "metadata": {},
     "output_type": "display_data"
    },
    {
     "data": {
      "text/html": [
       "<div class=\"dni-plaintext\">100</div>"
      ]
     },
     "metadata": {},
     "output_type": "display_data"
    },
    {
     "data": {
      "text/plain": [
       "Car is running"
      ]
     },
     "metadata": {},
     "output_type": "display_data"
    }
   ],
   "source": [
    "class Vehicle\n",
    "{\n",
    "    private int _speed;\n",
    "    public virtual int Speed{get{return _speed;}set{_speed = value;}}\n",
    "    public virtual void Run()\n",
    "    {\n",
    "        \"I'm running\".Display();\n",
    "        _speed = 100;\n",
    "    }\n",
    "}\n",
    "\n",
    "class Car:Vehicle\n",
    "{\n",
    "    private int _rpm;\n",
    "    \n",
    "    public override int Speed\n",
    "    {\n",
    "        get{return _rpm/100;}\n",
    "        set{_rpm = value*100;}\n",
    "    }\n",
    "\n",
    "    public override void Run()\n",
    "    {\n",
    "        \"Car is running\".Display();\n",
    "        _rpm=5000;\n",
    "    }\n",
    "}\n",
    "\n",
    "var car = new Car();\n",
    "car.Run();\n",
    "car.Speed.Display();\n",
    "var v = new Vehicle();\n",
    "v.Run();\n",
    "v.Speed.Display();\n",
    "Vehicle vc = new Car();\n",
    "vc.Run();"
   ]
  },
  {
   "cell_type": "code",
   "execution_count": 10,
   "metadata": {
    "dotnet_interactive": {
     "language": "csharp"
    },
    "vscode": {
     "languageId": "dotnet-interactive.csharp"
    }
   },
   "outputs": [
    {
     "data": {
      "text/plain": [
       "Car is running"
      ]
     },
     "metadata": {},
     "output_type": "display_data"
    }
   ],
   "source": [
    "class RaceCar:Car\n",
    "{\n",
    "    public override void Run()\n",
    "    {\n",
    "        \"Race Car is running\".Display();\n",
    "        \n",
    "    }\n",
    "}\n",
    "Vehicle vr = new RaceCar();\n",
    "vr.Run();"
   ]
  },
  {
   "cell_type": "markdown",
   "metadata": {},
   "source": [
    "### 多态\n",
    "- 基于重写机制（virtual -> override）\n",
    "- 函数成员的具体行为（版本）由对象决定"
   ]
  },
  {
   "cell_type": "code",
   "execution_count": null,
   "metadata": {
    "dotnet_interactive": {
     "language": "csharp"
    },
    "vscode": {
     "languageId": "dotnet-interactive.csharp"
    }
   },
   "outputs": [],
   "source": []
  }
 ],
 "metadata": {
  "kernelspec": {
   "display_name": ".NET (C#)",
   "language": "C#",
   "name": ".net-csharp"
  },
  "language_info": {
   "file_extension": ".cs",
   "mimetype": "text/x-csharp",
   "name": "C#",
   "pygments_lexer": "csharp",
   "version": "9.0"
  },
  "orig_nbformat": 4
 },
 "nbformat": 4,
 "nbformat_minor": 2
}
