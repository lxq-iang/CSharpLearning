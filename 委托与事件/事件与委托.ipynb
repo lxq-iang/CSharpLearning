{
 "cells": [
  {
   "cell_type": "markdown",
   "metadata": {},
   "source": [
    "### 委托是怎么一回事"
   ]
  },
  {
   "cell_type": "code",
   "execution_count": null,
   "metadata": {
    "dotnet_interactive": {
     "language": "csharp"
    },
    "polyglot_notebook": {
     "kernelName": "csharp"
    },
    "vscode": {
     "languageId": "polyglot-notebook"
    }
   },
   "outputs": [],
   "source": [
    "delegate void Foo(); //委托的声明\n",
    "\n",
    "void MyFoo()  //传入委托的函数必须签名与委托的声明一致\n",
    "{\n",
    "    \"Hello\".Display();\n",
    "}\n",
    "\n",
    "var foo = new Foo(MyFoo); //委托的实例化，委托实例化的是偶必须传入一个与委托签名一样的函数\n",
    "\n",
    "foo();  //委托的调用\n",
    "foo.Invoke();\n",
    "\n",
    "foo += MyFoo; //可以注册其它函数，也可以一个函数注册多次\n",
    "\n",
    "//foo();\n",
    "\n",
    "void MyFoo2()\n",
    "{\n",
    "    \"World\".Display();\n",
    "}\n",
    "\n",
    "foo += MyFoo2;\n",
    "\n",
    "foo -= MyFoo;\n",
    "foo();"
   ]
  },
  {
   "cell_type": "markdown",
   "metadata": {},
   "source": [
    "#### 带参数的委托"
   ]
  },
  {
   "cell_type": "code",
   "execution_count": null,
   "metadata": {
    "vscode": {
     "languageId": "polyglot-notebook"
    }
   },
   "outputs": [],
   "source": [
    "delegate string Foo(int a);\n",
    "\n",
    "string MyFunc(int number)\n",
    "{\n",
    "    return $\"{number + 1}\";\n",
    "}\n",
    "string MyFunc2(int number)\n",
    "{\n",
    "    return $\"{number + 10}\";\n",
    "}\n",
    "var foo = new Foo(MyFunc);\n",
    "\n",
    "foo += MyFunc2;\n",
    "\n",
    "foo(10).Display(); //只会返回最后一个函数的返回值"
   ]
  },
  {
   "cell_type": "markdown",
   "metadata": {},
   "source": [
    "#### 回调函数"
   ]
  },
  {
   "cell_type": "code",
   "execution_count": 1,
   "metadata": {
    "vscode": {
     "languageId": "polyglot-notebook"
    }
   },
   "outputs": [
    {
     "data": {
      "text/plain": [
       "Job done"
      ]
     },
     "metadata": {},
     "output_type": "display_data"
    }
   ],
   "source": [
    "\n",
    "using System.Threading;\n",
    "\n",
    "void MyHeavyJob(Callback callback)\n",
    "{\n",
    "    Thread.Sleep(1500);\n",
    "\n",
    "    callback();\n",
    "}\n",
    "\n",
    "void MyCallback()\n",
    "{\n",
    "    \"Job done\".Display();\n",
    "}\n",
    "\n",
    "delegate void Callback();\n",
    "\n",
    "MyHeavyJob(MyCallback); //把函数当参数传给调用者"
   ]
  },
  {
   "cell_type": "markdown",
   "metadata": {},
   "source": [
    "#### 回调函数2"
   ]
  },
  {
   "cell_type": "code",
   "execution_count": 2,
   "metadata": {
    "vscode": {
     "languageId": "polyglot-notebook"
    }
   },
   "outputs": [
    {
     "data": {
      "text/html": [
       "<div class=\"dni-plaintext\"><pre>10</pre></div><style>\r\n",
       ".dni-code-hint {\r\n",
       "    font-style: italic;\r\n",
       "    overflow: hidden;\r\n",
       "    white-space: nowrap;\r\n",
       "}\r\n",
       ".dni-treeview {\r\n",
       "    white-space: nowrap;\r\n",
       "}\r\n",
       ".dni-treeview td {\r\n",
       "    vertical-align: top;\r\n",
       "    text-align: start;\r\n",
       "}\r\n",
       "details.dni-treeview {\r\n",
       "    padding-left: 1em;\r\n",
       "}\r\n",
       "table td {\r\n",
       "    text-align: start;\r\n",
       "}\r\n",
       "table tr { \r\n",
       "    vertical-align: top; \r\n",
       "    margin: 0em 0px;\r\n",
       "}\r\n",
       "table tr td pre \r\n",
       "{ \r\n",
       "    vertical-align: top !important; \r\n",
       "    margin: 0em 0px !important;\r\n",
       "} \r\n",
       "table th {\r\n",
       "    text-align: start;\r\n",
       "}\r\n",
       "</style>"
      ]
     },
     "metadata": {},
     "output_type": "display_data"
    }
   ],
   "source": [
    "int PickOne(int a, int b, MyRule rule)\n",
    "{\n",
    "    if(rule(a,b)) return a;\n",
    "    else return b;\n",
    "}\n",
    "\n",
    "//定制方法\n",
    "bool MySpecialRule(int x, int y)\n",
    "{\n",
    "    return true;\n",
    "}\n",
    "\n",
    "delegate bool MyRule(int x, int y);\n",
    "\n",
    "PickOne(10,20,MySpecialRule).Display();"
   ]
  },
  {
   "cell_type": "markdown",
   "metadata": {},
   "source": [
    "#### 泛型委托"
   ]
  },
  {
   "cell_type": "code",
   "execution_count": 4,
   "metadata": {
    "vscode": {
     "languageId": "polyglot-notebook"
    }
   },
   "outputs": [
    {
     "data": {
      "text/html": [
       "<div class=\"dni-plaintext\"><pre>10</pre></div><style>\r\n",
       ".dni-code-hint {\r\n",
       "    font-style: italic;\r\n",
       "    overflow: hidden;\r\n",
       "    white-space: nowrap;\r\n",
       "}\r\n",
       ".dni-treeview {\r\n",
       "    white-space: nowrap;\r\n",
       "}\r\n",
       ".dni-treeview td {\r\n",
       "    vertical-align: top;\r\n",
       "    text-align: start;\r\n",
       "}\r\n",
       "details.dni-treeview {\r\n",
       "    padding-left: 1em;\r\n",
       "}\r\n",
       "table td {\r\n",
       "    text-align: start;\r\n",
       "}\r\n",
       "table tr { \r\n",
       "    vertical-align: top; \r\n",
       "    margin: 0em 0px;\r\n",
       "}\r\n",
       "table tr td pre \r\n",
       "{ \r\n",
       "    vertical-align: top !important; \r\n",
       "    margin: 0em 0px !important;\r\n",
       "} \r\n",
       "table th {\r\n",
       "    text-align: start;\r\n",
       "}\r\n",
       "</style>"
      ]
     },
     "metadata": {},
     "output_type": "display_data"
    }
   ],
   "source": [
    "int PickOne1(int a, int b, MyRule<int> rule)\n",
    "{\n",
    "    if(rule(a,b)) return a;\n",
    "    else return b;\n",
    "}\n",
    "\n",
    "//定制方法\n",
    "bool MySpecialRule(int x, int y)\n",
    "{\n",
    "    return true;\n",
    "}\n",
    "\n",
    "delegate bool MyRule<T>(T x, T y);\n",
    "\n",
    "PickOne1(10,20,MySpecialRule).Display();"
   ]
  },
  {
   "cell_type": "markdown",
   "metadata": {},
   "source": [
    "#### 强类型委托"
   ]
  },
  {
   "cell_type": "code",
   "execution_count": null,
   "metadata": {
    "vscode": {
     "languageId": "polyglot-notebook"
    }
   },
   "outputs": [],
   "source": [
    "//Action 无返回值的委托\n",
    "//Func 有返回值的委托"
   ]
  },
  {
   "cell_type": "code",
   "execution_count": 9,
   "metadata": {
    "vscode": {
     "languageId": "polyglot-notebook"
    }
   },
   "outputs": [
    {
     "data": {
      "text/html": [
       "<div class=\"dni-plaintext\"><pre>10</pre></div><style>\r\n",
       ".dni-code-hint {\r\n",
       "    font-style: italic;\r\n",
       "    overflow: hidden;\r\n",
       "    white-space: nowrap;\r\n",
       "}\r\n",
       ".dni-treeview {\r\n",
       "    white-space: nowrap;\r\n",
       "}\r\n",
       ".dni-treeview td {\r\n",
       "    vertical-align: top;\r\n",
       "    text-align: start;\r\n",
       "}\r\n",
       "details.dni-treeview {\r\n",
       "    padding-left: 1em;\r\n",
       "}\r\n",
       "table td {\r\n",
       "    text-align: start;\r\n",
       "}\r\n",
       "table tr { \r\n",
       "    vertical-align: top; \r\n",
       "    margin: 0em 0px;\r\n",
       "}\r\n",
       "table tr td pre \r\n",
       "{ \r\n",
       "    vertical-align: top !important; \r\n",
       "    margin: 0em 0px !important;\r\n",
       "} \r\n",
       "table th {\r\n",
       "    text-align: start;\r\n",
       "}\r\n",
       "</style>"
      ]
     },
     "metadata": {},
     "output_type": "display_data"
    },
    {
     "data": {
      "text/html": [
       "<div class=\"dni-plaintext\"><pre>10</pre></div><style>\r\n",
       ".dni-code-hint {\r\n",
       "    font-style: italic;\r\n",
       "    overflow: hidden;\r\n",
       "    white-space: nowrap;\r\n",
       "}\r\n",
       ".dni-treeview {\r\n",
       "    white-space: nowrap;\r\n",
       "}\r\n",
       ".dni-treeview td {\r\n",
       "    vertical-align: top;\r\n",
       "    text-align: start;\r\n",
       "}\r\n",
       "details.dni-treeview {\r\n",
       "    padding-left: 1em;\r\n",
       "}\r\n",
       "table td {\r\n",
       "    text-align: start;\r\n",
       "}\r\n",
       "table tr { \r\n",
       "    vertical-align: top; \r\n",
       "    margin: 0em 0px;\r\n",
       "}\r\n",
       "table tr td pre \r\n",
       "{ \r\n",
       "    vertical-align: top !important; \r\n",
       "    margin: 0em 0px !important;\r\n",
       "} \r\n",
       "table th {\r\n",
       "    text-align: start;\r\n",
       "}\r\n",
       "</style>"
      ]
     },
     "metadata": {},
     "output_type": "display_data"
    },
    {
     "data": {
      "text/html": [
       "<div class=\"dni-plaintext\"><pre>10</pre></div><style>\r\n",
       ".dni-code-hint {\r\n",
       "    font-style: italic;\r\n",
       "    overflow: hidden;\r\n",
       "    white-space: nowrap;\r\n",
       "}\r\n",
       ".dni-treeview {\r\n",
       "    white-space: nowrap;\r\n",
       "}\r\n",
       ".dni-treeview td {\r\n",
       "    vertical-align: top;\r\n",
       "    text-align: start;\r\n",
       "}\r\n",
       "details.dni-treeview {\r\n",
       "    padding-left: 1em;\r\n",
       "}\r\n",
       "table td {\r\n",
       "    text-align: start;\r\n",
       "}\r\n",
       "table tr { \r\n",
       "    vertical-align: top; \r\n",
       "    margin: 0em 0px;\r\n",
       "}\r\n",
       "table tr td pre \r\n",
       "{ \r\n",
       "    vertical-align: top !important; \r\n",
       "    margin: 0em 0px !important;\r\n",
       "} \r\n",
       "table th {\r\n",
       "    text-align: start;\r\n",
       "}\r\n",
       "</style>"
      ]
     },
     "metadata": {},
     "output_type": "display_data"
    }
   ],
   "source": [
    "int PickOne2(int a, int b, Func<int,int,bool> rule) //强类型委托\n",
    "{\n",
    "    if(rule(a,b)) return a;\n",
    "    else return b;\n",
    "}\n",
    "\n",
    "//定制方法\n",
    "bool MySpecialRule(int x, int y)\n",
    "{\n",
    "    return true;\n",
    "}\n",
    "\n",
    "PickOne2(10,20,MySpecialRule).Display();\n",
    "\n",
    "//传入匿名委托\n",
    "PickOne2(10,20,delegate (int a, int b) {return true;}).Display();\n",
    "\n",
    "//使用Lambda表达式, lambda表达式会被自动转换成为Action或者Func\n",
    "PickOne2(10,20,(a,b)=>true).Display();"
   ]
  },
  {
   "cell_type": "markdown",
   "metadata": {},
   "source": [
    "### 事件"
   ]
  },
  {
   "cell_type": "code",
   "execution_count": 10,
   "metadata": {
    "vscode": {
     "languageId": "polyglot-notebook"
    }
   },
   "outputs": [],
   "source": [
    "//事件是一种特殊的委托，委托在声明的时候必须注册一个方法，事件不需要注册\n",
    "delegate void MyDelegate();\n",
    "\n",
    "event MyDelegate myEvent; //事件需要用委托类型去声明，类似于声明一个变量，通常作为类的成员出现"
   ]
  },
  {
   "cell_type": "code",
   "execution_count": 11,
   "metadata": {
    "vscode": {
     "languageId": "polyglot-notebook"
    }
   },
   "outputs": [
    {
     "data": {
      "text/plain": [
       "hello"
      ]
     },
     "metadata": {},
     "output_type": "display_data"
    }
   ],
   "source": [
    "class Demo\n",
    "{\n",
    "    public event Action myEvent; //使用强类型委托声明事件\n",
    "\n",
    "    //事件只能在类的内部调用\n",
    "    public void InvokeEvent()\n",
    "    {\n",
    "        myEvent?.Invoke();\n",
    "    }\n",
    "}\n",
    "\n",
    "var demo = new Demo();\n",
    "\n",
    "demo.myEvent += () => \"hello\".Display();\n",
    "\n",
    "demo.InvokeEvent();"
   ]
  },
  {
   "cell_type": "markdown",
   "metadata": {},
   "source": [
    "#### 观察者模式，类属性或字段发生变化希望能让外界观测到"
   ]
  },
  {
   "cell_type": "code",
   "execution_count": 13,
   "metadata": {
    "vscode": {
     "languageId": "polyglot-notebook"
    }
   },
   "outputs": [
    {
     "data": {
      "text/plain": [
       "value change observed"
      ]
     },
     "metadata": {},
     "output_type": "display_data"
    },
    {
     "data": {
      "text/plain": [
       "value change observed"
      ]
     },
     "metadata": {},
     "output_type": "display_data"
    },
    {
     "data": {
      "text/plain": [
       "value change observed"
      ]
     },
     "metadata": {},
     "output_type": "display_data"
    }
   ],
   "source": [
    "class Demo2\n",
    "{\n",
    "    public event Action MyValueChanged;\n",
    "\n",
    "    int myValue;\n",
    "\n",
    "    public int MyValue\n",
    "    {\n",
    "        get{return myValue;}\n",
    "        set{\n",
    "            myValue = value;\n",
    "            MyValueChanged?.Invoke();\n",
    "        }\n",
    "    }\n",
    "\n",
    "}\n",
    "var demo2 = new Demo2();\n",
    "\n",
    "demo2.MyValueChanged += () => \"value change observed\".Display();\n",
    "\n",
    "demo2.MyValue = 10; //属性的值变化可以被观测到\n",
    "demo2.MyValue = 20; //属性的值变化可以被观测到\n",
    "demo2.MyValue = 30; //属性的值变化可以被观测到\n"
   ]
  },
  {
   "cell_type": "markdown",
   "metadata": {},
   "source": [
    "#### 官方自带的事件"
   ]
  },
  {
   "cell_type": "code",
   "execution_count": 14,
   "metadata": {
    "vscode": {
     "languageId": "polyglot-notebook"
    }
   },
   "outputs": [
    {
     "data": {
      "text/plain": [
       "collection change observed"
      ]
     },
     "metadata": {},
     "output_type": "display_data"
    },
    {
     "data": {
      "text/plain": [
       "collection change observed"
      ]
     },
     "metadata": {},
     "output_type": "display_data"
    },
    {
     "data": {
      "text/plain": [
       "collection change observed"
      ]
     },
     "metadata": {},
     "output_type": "display_data"
    },
    {
     "data": {
      "text/plain": [
       "collection change observed"
      ]
     },
     "metadata": {},
     "output_type": "display_data"
    }
   ],
   "source": [
    "using System.Collections.ObjectModel;\n",
    "var collection = new ObservableCollection<int>();\n",
    "collection.CollectionChanged += (sender,e) => \"collection change observed\".Display();\n",
    "collection.Add(1);\n",
    "collection.Add(1);\n",
    "collection.Add(1);\n",
    "collection.Add(1);"
   ]
  },
  {
   "cell_type": "markdown",
   "metadata": {},
   "source": [
    "#### 标准dotnet事件模式"
   ]
  },
  {
   "cell_type": "markdown",
   "metadata": {},
   "source": [
    "```C#\n",
    "public delegate void EventHandler(object? sender, EventArgs e);\n",
    "```\n",
    "\n",
    "- sender —— 事件的拥有者\n",
    "- e —— 事件成员"
   ]
  },
  {
   "cell_type": "code",
   "execution_count": null,
   "metadata": {
    "vscode": {
     "languageId": "polyglot-notebook"
    }
   },
   "outputs": [],
   "source": [
    "public delegate void EventHandler(object? sender, EventArgs e);"
   ]
  }
 ],
 "metadata": {
  "kernelspec": {
   "display_name": ".NET (C#)",
   "language": "C#",
   "name": ".net-csharp"
  },
  "language_info": {
   "name": "csharp"
  },
  "polyglot_notebook": {
   "kernelInfo": {
    "defaultKernelName": "csharp",
    "items": [
     {
      "aliases": [],
      "name": "csharp"
     }
    ]
   }
  }
 },
 "nbformat": 4,
 "nbformat_minor": 2
}
