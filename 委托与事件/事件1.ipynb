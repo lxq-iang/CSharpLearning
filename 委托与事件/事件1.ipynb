{
 "cells": [
  {
   "cell_type": "markdown",
   "metadata": {},
   "source": [
    "#### 初步了解事件\n",
    "- 定义：单词Event，译为事件\n",
    "    - 能够发生的什么事情\n",
    "- 角色：使对象或类具备<font color=\"green\">通知能力</font>的成员\n",
    "    - （中译）事件是一种使对象或类能够提供通知的成员\n",
    "    - （原文）An event is a member that enables an object or class to provide notifications.\n",
    "    - 对象O拥有一个事件E —— 当事件E发生时，O有能力通知别的对象\n",
    "- 使用：用于对象或类间的动作协调与信息传递（消息推送）\n",
    "- 原理：事件模型（event model）中的两个5\n",
    "    - <font color=\"lightGreen\">发生->响应</font>中的5个部分 —— 闹钟响了你起床、孩子饿了你做饭... ... 这里隐含着订阅关系\n",
    "    - <font color=\"lightGreen\">发生->响应</font>中的5个步骤 —— 1. 我有一个事件 -> 2. 一个人或一群人关心我这个事件 -> 3. 我的这个事件发生了 -> 4. 关心这个事件的人会被依次通知到 -> 5. 被通知到的人根据拿到的事件信息（又称 \"事件数据\"、\"事件参数\" 、\"通知\"）对事件进行响应（又称 \"处理事件\"）"
   ]
  },
  {
   "cell_type": "markdown",
   "metadata": {},
   "source": [
    "- 事件的拥有者\n",
    "- 事件参数\n",
    "- 订阅\n",
    "- 事件的订阅者\n",
    "- 处理事件"
   ]
  },
  {
   "cell_type": "code",
   "execution_count": null,
   "metadata": {},
   "outputs": [],
   "source": []
  }
 ],
 "metadata": {
  "language_info": {
   "name": "csharp"
  }
 },
 "nbformat": 4,
 "nbformat_minor": 2
}
